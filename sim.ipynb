{
 "cells": [
  {
   "cell_type": "code",
   "execution_count": 44,
   "metadata": {},
   "outputs": [],
   "source": [
    "import random\n",
    "import json"
   ]
  },
  {
   "cell_type": "code",
   "execution_count": 45,
   "metadata": {},
   "outputs": [],
   "source": [
    "# MOD SIM\n",
    "\n",
    "def propagate(agentId, timeStep, universe):\n",
    "    state = universe[agentId]\n",
    "    time, x, y, vx, vy = state['time'], state['x'], state['y'], state['vx'], state['vy']\n",
    "\n",
    "    if agentId == 'Planet':\n",
    "        x += vx * timeStep\n",
    "        y += vy * timeStep\n",
    "    elif agentId == 'Satellite':\n",
    "        px, py = universe['Planet']['x'], universe['Planet']['y']\n",
    "        dx = px - x\n",
    "        dy = py - y\n",
    "        fx = dx / (dx**2 + dy**2)**(3/2)\n",
    "        fy = dy / (dx**2 + dy**2)**(3/2)\n",
    "        vx += fx * timeStep\n",
    "        vy += fy * timeStep\n",
    "        x += vx * timeStep\n",
    "        y += vy * timeStep\n",
    "\n",
    "    return {'time': time + timeStep, 'x': x, 'y': y, 'vx': vx, 'vy': vy}\n"
   ]
  },
  {
   "cell_type": "code",
   "execution_count": 46,
   "metadata": {},
   "outputs": [],
   "source": [
    "# SIM BED\n",
    "\n",
    "streams = {\n",
    "    'Planet': [{'time': 0, 'x': 0, 'y': 0, 'vx': 0.1, 'vy': 0}],\n",
    "    'Satellite': [{'time': 0, 'x': 0, 'y': 1, 'vx': 1, 'vy': 0}]\n",
    "}\n",
    "\n",
    "random.seed(0)\n",
    "for i in range(300):\n",
    "    for agentId in streams:\n",
    "        universe = {agentId: stream[-1] for agentId, stream in streams.items()}\n",
    "        newState = propagate(agentId, random.random()*0.1, universe)\n",
    "        streams[agentId].append(newState)\n",
    "\n",
    "with open('data.js', 'w') as f:\n",
    "    f.write(f\"data = {json.dumps(streams, indent=4)}\")"
   ]
  }
 ],
 "metadata": {
  "kernelspec": {
   "display_name": "Python 3.9.13 64-bit",
   "language": "python",
   "name": "python3"
  },
  "language_info": {
   "codemirror_mode": {
    "name": "ipython",
    "version": 3
   },
   "file_extension": ".py",
   "mimetype": "text/x-python",
   "name": "python",
   "nbconvert_exporter": "python",
   "pygments_lexer": "ipython3",
   "version": "3.9.13"
  },
  "orig_nbformat": 4,
  "vscode": {
   "interpreter": {
    "hash": "b0fa6594d8f4cbf19f97940f81e996739fb7646882a419484c72d19e05852a7e"
   }
  }
 },
 "nbformat": 4,
 "nbformat_minor": 2
}
